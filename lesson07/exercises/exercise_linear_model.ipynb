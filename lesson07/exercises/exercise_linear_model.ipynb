{
 "cells": [
  {
   "cell_type": "code",
   "execution_count": 1,
   "id": "db3e892c",
   "metadata": {},
   "outputs": [],
   "source": [
    "import numpy as np\n",
    "import pandas as pd\n",
    "import matplotlib.pyplot as plt"
   ]
  },
  {
   "cell_type": "markdown",
   "id": "abd12549",
   "metadata": {},
   "source": [
    "### Exercise 1a) Plotting a polynomial\n",
    "\n",
    "Try to visualize the following function: \n",
    "\n",
    "f(x) = a + b x + c x^2, \n",
    "\n",
    "where a = 0.5, b = 1, c=0.25 for x being in the range of -10 to 10. "
   ]
  },
  {
   "cell_type": "code",
   "execution_count": 23,
   "id": "d3d03e59",
   "metadata": {},
   "outputs": [],
   "source": [
    "# first generate a sequence of x values (use np.arange())\n",
    "HINT: \n",
    "    x = np.arange(-10, 10, 0.01)\n",
    "\n",
    "# initialize the values for a, b, c \n",
    "#HINT: a, b, c, = .\n",
    " a, b, c, =\n",
    "# then evaluate the function f(x) for all generated values of x\n",
    "# HINT: y = a + b * x + ...\n",
    "\n",
    "# use then a lineplot to visualise the function\n",
    "# HINT: ax.plot(x, y)"
   ]
  },
  {
   "cell_type": "markdown",
   "id": "d20f4cf0",
   "metadata": {},
   "source": [
    "### Exercise 1b) Plotting a polynomial\n",
    "\n",
    "What happens if you change the value of the coefficient a to 100 (i.e. a=100)? Generate a new plot and try to understand what happens. \n",
    "You can also try to plot the two different functions into the same coordinate system (i.e. axis instance)"
   ]
  },
  {
   "cell_type": "code",
   "execution_count": null,
   "id": "96e90a0f",
   "metadata": {},
   "outputs": [],
   "source": []
  },
  {
   "cell_type": "markdown",
   "id": "d5629ba5",
   "metadata": {},
   "source": [
    "### Exercise 1c) Plotting a polynomial\n",
    "\n",
    "Repeat the same experiment with the remaining two coefficients. Try to see how their values affect the shape of the function"
   ]
  },
  {
   "cell_type": "code",
   "execution_count": null,
   "id": "38c1b3c9",
   "metadata": {},
   "outputs": [],
   "source": []
  },
  {
   "cell_type": "markdown",
   "id": "f88354d3",
   "metadata": {},
   "source": [
    "### Exercise 1d) Plotting a polynomial\n",
    "\n",
    "How does the function\n",
    "\n",
    "f(x) = a + b x + c x^2 + d x^3,\n",
    "\n",
    "look for a=0.5, b=1, c=0.25 and d=-1"
   ]
  },
  {
   "cell_type": "code",
   "execution_count": null,
   "id": "f492a0d3",
   "metadata": {},
   "outputs": [],
   "source": []
  },
  {
   "cell_type": "markdown",
   "id": "ccec3aaf",
   "metadata": {},
   "source": [
    "### Exercise 2) Using sklearn to fit a linear regression model"
   ]
  },
  {
   "cell_type": "code",
   "execution_count": 24,
   "id": "94f89da0",
   "metadata": {},
   "outputs": [],
   "source": [
    "# if you cannot run this cell uncomment the following line\n",
    "# ! python3 -m pip install sklearn\n",
    "\n",
    "from sklearn.linear_model import LinearRegression  "
   ]
  },
  {
   "cell_type": "markdown",
   "id": "7fa03d06",
   "metadata": {},
   "source": [
    "### Exercise 2a) Convince yourself that you understand how the y, x and X arrays are created"
   ]
  },
  {
   "cell_type": "code",
   "execution_count": 25,
   "id": "d3dc7e84",
   "metadata": {},
   "outputs": [],
   "source": [
    "def generate_data(n, var_eps):\n",
    "    np.random.seed(42)\n",
    "    x = np.random.normal(0, 1, [n, 1])\n",
    "    y = 10 + 1 * x + 0.5 * x**3 + np.random.normal(0, var_eps**0.5, [n, 1])\n",
    "    return y, x\n",
    "\n",
    "y, x = generate_data(n=1000, var_eps=1)\n",
    "\n",
    "# construct the training data / design matrix\n",
    "X = np.repeat(x, 2, axis=1)  # np.repeat repeats an array. The line could be illustrated as X = [x, x] \n",
    "X[:,1] = X[:,1]**3  "
   ]
  },
  {
   "cell_type": "markdown",
   "id": "8dde1c81",
   "metadata": {},
   "source": [
    "### Exercise 2b) Now we fit the linear regression model"
   ]
  },
  {
   "cell_type": "code",
   "execution_count": 26,
   "id": "62716969",
   "metadata": {},
   "outputs": [
    {
     "name": "stdout",
     "output_type": "stream",
     "text": [
      "[10.070646    0.93200108  0.50911634]\n"
     ]
    }
   ],
   "source": [
    "lm = LinearRegression(fit_intercept=True) # create on instance of the LinearRegression class\n",
    "lm.fit(X=X, y=y) # call the fit method and pass the feature matrix and target (dependent) vector\n",
    "\n",
    "beta = np.concatenate([lm.intercept_, lm.coef_.flatten()]) # get the coefficient estimates\n",
    "print(beta)"
   ]
  },
  {
   "cell_type": "markdown",
   "id": "2d463ed8",
   "metadata": {},
   "source": [
    "### Exercise 2c) Calculate the residuals by multiplying the design/feature matrix X with the coefficient estimates (lm.coef_). Don't forget to add the intercept\n",
    "Now it's your turn to calculate the residuals. You can find an example in the lecture notes"
   ]
  },
  {
   "cell_type": "code",
   "execution_count": null,
   "id": "0f528702",
   "metadata": {},
   "outputs": [],
   "source": []
  },
  {
   "cell_type": "markdown",
   "id": "1acdf7e9",
   "metadata": {},
   "source": [
    "### Exericse 2d) Now compute the residuals by using the .predict() method of the lm object. HINT: write lm.predict(...) and replace ... by the correct argument. \n",
    "\n",
    "If you're unsure what arguments to pass have a look at https://scikit-learn.org/stable/modules/generated/sklearn.linear_model.LinearRegression.html#sklearn.linear_model.LinearRegression.fit "
   ]
  },
  {
   "cell_type": "code",
   "execution_count": null,
   "id": "638050ca",
   "metadata": {},
   "outputs": [],
   "source": []
  },
  {
   "cell_type": "markdown",
   "id": "b78bba7f",
   "metadata": {},
   "source": [
    "### Exericse 2e) If you have time try to play around with this example. You could change the following things:\n",
    "- increase or decrease the noise that is added to the signal. You can do this by changing the parameter var_eps when calling the generate_data function\n",
    "- try to pass a different feature matrix. For example, you could remove the second column or add a third column \n",
    "- increase or decrease the sample size (parameter n in the generate_data function)\n",
    "\n",
    "Try to pay attention to what happens with the coefficient estimates (i.e. lm.coef_ and lm.intercept_) "
   ]
  }
 ],
 "metadata": {
  "kernelspec": {
   "display_name": "Python 3",
   "language": "python",
   "name": "python3"
  },
  "language_info": {
   "codemirror_mode": {
    "name": "ipython",
    "version": 3
   },
   "file_extension": ".py",
   "mimetype": "text/x-python",
   "name": "python",
   "nbconvert_exporter": "python",
   "pygments_lexer": "ipython3",
   "version": "3.9.2"
  }
 },
 "nbformat": 4,
 "nbformat_minor": 5
}
