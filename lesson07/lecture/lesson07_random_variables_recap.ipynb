{
 "cells": [
  {
   "cell_type": "markdown",
   "id": "4b1060f5",
   "metadata": {
    "slideshow": {
     "slide_type": "slide"
    },
    "tags": []
   },
   "source": [
    "# Week 7 - Recap random variables"
   ]
  },
  {
   "cell_type": "markdown",
   "id": "f281a710",
   "metadata": {
    "slideshow": {
     "slide_type": "slide"
    },
    "tags": []
   },
   "source": [
    "### Discrete random variables: Coin flip example \n",
    "\n",
    "Assume that you have a coin which shows on one side 0 and on the other 1. Let $X$ be the random variable to represent the outcome of the coin flip. Further, let $\\theta$ be the probability for the coin to land on the side showing 1. We then call\n",
    "$$\n",
    "f(x) = \\begin{cases}\n",
    "\\theta & \\text{for } x=1 \\\\\n",
    "1 - \\theta  & \\text{for } x=0\n",
    "\\end{cases}\n",
    "$$\n",
    "the probability mass function of the random variable $X$. You'll often see people writing\n",
    "$$\n",
    "X \\sim f(x)\n",
    "$$\n",
    "which is read as; \"X has probability distribution of $f(x)$\".\n",
    "\n",
    "Sometimes it is convenient to use $f(x; \\theta)$ instead of $f(x)$ to express that the probability mass function depends on the $\\textbf{parameter}$ $\\theta$. \n",
    "\n",
    "We can also use $P[X = 0]$ to denote the probability of the random variable to be equal to 0. $P[X = 1]$ is then the probability of the random variable to be equal to 1. "
   ]
  },
  {
   "cell_type": "markdown",
   "id": "e3df13f0",
   "metadata": {
    "slideshow": {
     "slide_type": "subslide"
    },
    "tags": []
   },
   "source": [
    "Now let's assume that you forgot if the coin is fair $(\\theta = 0.5)$ or not $(\\theta \\neq 0.5)$. You decide to carry out an experiment to $\\textbf{estimate}$ the parameter $\\theta$. Your idea is to flip the coin $N$ times. You then plan to use the $\\text{empirical}$ average of the samples as an $\\textbf{estimate}$ for the $\\textbf{parameter}$ $\\theta$. \n",
    "\n",
    "Let \n",
    "$$\n",
    "X = X_1,X_2, \\dots, X_n \\overset{iid}{\\sim} f(x; \\theta)\n",
    "$$\n",
    "denote the sequence of $N$ $\\textbf{independently}$ and $\\textbf{identically}$ distributed (iid) random variables with probability mass function $f(x; \\theta)$.\n",
    "Further let \n",
    "$$\n",
    "x = x_1, x_2, \\dots, x_N \n",
    "$$\n",
    "be realisations (or a sample) of your experiment.  "
   ]
  },
  {
   "cell_type": "markdown",
   "id": "7552cabf",
   "metadata": {
    "slideshow": {
     "slide_type": "subslide"
    },
    "tags": []
   },
   "source": [
    "Your estimate of the population parameter $\\theta$ is then obtained as\n",
    "$$\n",
    "\\hat{\\theta} = \\frac{1}{N} \\sum_{i=1}^N x_i\n",
    "$$\n",
    "where in statistics and machine learning $\\hat{\\ }$ (pronounced as hat) is used to denote an estimate.\n",
    "\n",
    "The following code simulates this experiment! "
   ]
  },
  {
   "cell_type": "code",
   "execution_count": 2,
   "id": "d3e38811",
   "metadata": {
    "slideshow": {
     "slide_type": "skip"
    },
    "tags": []
   },
   "outputs": [],
   "source": [
    "import numpy as np\n",
    "import matplotlib.pyplot as plt"
   ]
  },
  {
   "cell_type": "code",
   "execution_count": 4,
   "id": "38770550",
   "metadata": {
    "slideshow": {
     "slide_type": "subslide"
    },
    "tags": []
   },
   "outputs": [
    {
     "data": {
      "image/png": "[encoded data removed]",
      "text/plain": [
       "<Figure size 1440x432 with 1 Axes>"
      ]
     },
     "metadata": {
      "needs_background": "light"
     },
     "output_type": "display_data"
    }
   ],
   "source": [
    "np.random.seed(10)\n",
    "N_range = np.array([1e1, 1e2, 1e3, 1e4,1e5, 1e6]).astype(int)  # number of random coin flips (N in the previous text)\n",
    "\n",
    "fig, ax = plt.subplots(figsize=(20, 6))\n",
    "theta = 0.6  # P[X=1] = theta \n",
    "\n",
    "bar_width = 0.5\n",
    "x_pos = np.array([0, 2])\n",
    "for i, N in enumerate(N_range): \n",
    "    x = np.random.binomial(1, theta, N)  # simulate coin flips\n",
    "    theta_hat = np.mean(x)\n",
    "    ax.bar(i, theta_hat, width=bar_width, color=\"blue\")\n",
    "\n",
    "ax.axhline(theta, linestyle='--', c=\"red\", linewidth=1, label=\"true theta\")\n",
    "ax.legend()\n",
    "ax.set_xticks(np.arange(len(N_range)))\n",
    "ax.set_xticklabels(N_range)\n",
    "ax.set_xlabel(\"Number of coin flips\")\n",
    "ax.set_ylabel(\"Estimated theta\")\n",
    "ax.grid(which=\"both\")"
   ]
  },
  {
   "cell_type": "markdown",
   "id": "74032d02",
   "metadata": {
    "slideshow": {
     "slide_type": "slide"
    },
    "tags": []
   },
   "source": [
    "### Continuous random variables: Normal distribution\n",
    "\n",
    "The Normal (or Gaussian) distribution is very popular within statistics/machine learning. The probability density function is given as\n",
    "$$\n",
    "f(x; \\bf{\\theta}) = \\frac{1}{\\sqrt{2 \\pi \\sigma^2}} e^{-\\frac{1}{2} \\frac{(x - \\mu)^2}{\\sigma^2}} ,\n",
    "$$\n",
    "where $\\bf{\\theta} = (\\mu, \\sigma^2)$. The probability density function describes the infinitesimal probability of the random variable $X$ being equal to $x$. It's very important to understand that $f(x)$ does not return the probability (e.g. $P[X =x]$) for continuous random variables. The probability for a continuous random variable to be equal to a specific value is by convention 0. Instead, one usually ask for the probability to be within a certain interval ($P[X < x]$), which is obtained by using the cumulative distribution function.  \n",
    "\n",
    "Usually the following notation is used to denote that a random variable is normal distributed:\n",
    "$$\n",
    "X \\sim N(\\mu, \\sigma^2), \n",
    "$$\n",
    "where the density function is parametrized with the variance $(\\sigma^2)$. Some people and computing packages (like Numpy) use the standard deviation ($\\sigma$; e.g. the square-root of the variance) to parametrize the density function. "
   ]
  },
  {
   "cell_type": "markdown",
   "id": "5918a91a",
   "metadata": {
    "slideshow": {
     "slide_type": "subslide"
    },
    "tags": []
   },
   "source": [
    "Let's assume that you have a sample of $N$ independently and identically distributed (iid) normal random variables ($x = x_1, x_2, \\dots x_N$). \n",
    "\n",
    "Further, assume that you want to find an estimate for the population mean (parameter $\\mu$ of the density function). You're idea is to use again the empirical mean of your data sample. \n",
    "\n",
    "Have a look at the following code. The idea of the code is to repeatedly simulate realisations of length $N$. For each realisation the empirical mean and median are calculated as estimates for the population mean "
   ]
  },
  {
   "cell_type": "code",
   "execution_count": 60,
   "id": "bdab3eaa",
   "metadata": {
    "slideshow": {
     "slide_type": "subslide"
    },
    "tags": []
   },
   "outputs": [
    {
     "data": {
      "image/png": "[encoded data removed]",
      "text/plain": [
       "<Figure size 1440x576 with 2 Axes>"
      ]
     },
     "metadata": {
      "needs_background": "light"
     },
     "output_type": "display_data"
    }
   ],
   "source": [
    "M = 10000  # number of realisations \n",
    "N = 1000  # sample size of each realisation\n",
    "\n",
    "true_mean = 1  # mean of distribution\n",
    "estimates = {\"empirical_mean\":[], \"empirical_median\": []}\n",
    "\n",
    "for m in range(M):\n",
    "    x = np.random.normal(loc=true_mean, scale=1, size=N) # simulate realisations\n",
    "    estimates[\"empirical_mean\"].append(np.mean(x))  # calculate mean\n",
    "    estimates[\"empirical_median\"].append(np.median(x)) # calculate median\n",
    "    \n",
    "fig, ax = plt.subplots(ncols=2, figsize=(20,8))\n",
    "for i, key in enumerate(estimates.keys()):\n",
    "    ax[i].hist(estimates[key])\n",
    "    ax[i].axvline(true_mean, c=\"red\", label=\"true_mean\")\n",
    "    ax[i].legend()\n",
    "    ax[i].set_title(key)\n",
    "    ax[i].set_xlabel(\"Coefficient estimate\")"
   ]
  },
  {
   "cell_type": "markdown",
   "id": "7e5083e4",
   "metadata": {
    "slideshow": {
     "slide_type": "subslide"
    },
    "tags": []
   },
   "source": [
    "It seems that the empirical mean and median are equally \"good\" at estimating the true population mean. But what happens in case the random variable is distributed according to an exponential distribution\n",
    "$$\n",
    "X \\sim \\lambda e^{-\\lambda x} , \n",
    "$$\n",
    "where $\\lambda$ is the rate parameter of the distribution. \n",
    "\n",
    "The following code uses the empirical mean and median to estimate the rate parameter $\\lambda$ of the distribution. "
   ]
  },
  {
   "cell_type": "code",
   "execution_count": 61,
   "id": "a99cc0da",
   "metadata": {
    "slideshow": {
     "slide_type": "subslide"
    },
    "tags": []
   },
   "outputs": [
    {
     "data": {
      "image/png": "[encoded data removed]",
      "text/plain": [
       "<Figure size 1440x576 with 2 Axes>"
      ]
     },
     "metadata": {
      "needs_background": "light"
     },
     "output_type": "display_data"
    }
   ],
   "source": [
    "_lambda = 1  # true rate parameter of the distribution\n",
    "estimates = {\"empirical_mean\":[], \"empirical_median\": []}\n",
    "\n",
    "for m in range(M):\n",
    "    x = np.random.exponential(scale=_lambda, size=N)\n",
    "    estimates[\"empirical_mean\"].append(np.mean(x))  # calculate mean\n",
    "    estimates[\"empirical_median\"].append(np.median(x)) # calculate median\n",
    "    \n",
    "fig, ax = plt.subplots(ncols=2, figsize=(20,8))\n",
    "for i, key in enumerate(estimates.keys()):\n",
    "    ax[i].hist(estimates[key])\n",
    "    ax[i].axvline(true_mean, c=\"red\", label=\"true_lambda\")\n",
    "    ax[i].legend(); ax[i].set_title(key)\n",
    "    ax[i].set_xlabel(\"Coefficient estimate\")"
   ]
  },
  {
   "cell_type": "markdown",
   "id": "d0e6fd52",
   "metadata": {
    "slideshow": {
     "slide_type": "subslide"
    },
    "tags": []
   },
   "source": [
    "Is the median still a good estimator for the parameter $\\lambda$? Have a look at the following wikipedia article to understand why this is the case (https://en.wikipedia.org/wiki/Exponential_distribution) "
   ]
  }
 ],
 "metadata": {
  "kernelspec": {
   "display_name": "Python 3",
   "language": "python",
   "name": "python3"
  },
  "language_info": {
   "codemirror_mode": {
    "name": "ipython",
    "version": 3
   },
   "file_extension": ".py",
   "mimetype": "text/x-python",
   "name": "python",
   "nbconvert_exporter": "python",
   "pygments_lexer": "ipython3",
   "version": "3.9.2"
  }
 },
 "nbformat": 4,
 "nbformat_minor": 5
}
