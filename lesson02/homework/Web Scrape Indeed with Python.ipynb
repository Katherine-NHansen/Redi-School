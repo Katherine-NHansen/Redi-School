{
 "cells": [
  {
   "cell_type": "markdown",
   "id": "31b99d5d",
   "metadata": {},
   "source": [
    "# Web Scrape Indeed with Python - Extract Job Information to CSV"
   ]
  },
  {
   "cell_type": "markdown",
   "id": "aa6fa358",
   "metadata": {},
   "source": [
    "Let's scrape some job postings from indeed.com using Python. I will show you how to work with pagination, extract job titles, salary, company and summaries from the site and save as a csv file for excel.\n",
    "\n",
    "#https://www.youtube.com/watch?v=PPcgtx0sI2E"
   ]
  },
  {
   "cell_type": "code",
   "execution_count": 1,
   "id": "governmental-doctrine",
   "metadata": {},
   "outputs": [],
   "source": [
    "\n",
    "import csv\n",
    "from datetime import datetime\n",
    "from datetime import date\n",
    "import requests\n",
    "from bs4 import BeautifulSoup\n",
    "import pandas as pd\n"
   ]
  },
  {
   "cell_type": "code",
   "execution_count": 2,
   "id": "honey-kingdom",
   "metadata": {
    "scrolled": true
   },
   "outputs": [
    {
     "name": "stdout",
     "output_type": "stream",
     "text": [
      "Getting page, 0\n",
      "Getting page, 10\n",
      "Getting page, 20\n",
      "Getting page, 30\n",
      "Getting page, 40\n",
      "Getting page, 50\n",
      "Getting page, 60\n",
      "Getting page, 70\n",
      "Getting page, 80\n",
      "Getting page, 90\n",
      "Getting page, 100\n",
      "Getting page, 110\n",
      "Getting page, 120\n",
      "Getting page, 130\n",
      "Getting page, 140\n",
      "Getting page, 150\n",
      "Getting page, 160\n",
      "Getting page, 170\n",
      "Getting page, 180\n",
      "Getting page, 190\n",
      "Getting page, 200\n",
      "Getting page, 210\n",
      "Getting page, 220\n",
      "Getting page, 230\n",
      "Getting page, 240\n",
      "Getting page, 250\n",
      "Getting page, 260\n",
      "Getting page, 270\n",
      "Getting page, 280\n",
      "Getting page, 290\n",
      "Getting page, 300\n",
      "Getting page, 310\n",
      "Getting page, 320\n",
      "Getting page, 330\n",
      "Getting page, 340\n",
      "Getting page, 350\n",
      "Getting page, 360\n",
      "Getting page, 370\n",
      "Getting page, 380\n",
      "Getting page, 390\n",
      "Getting page, 400\n",
      "Getting page, 410\n",
      "Getting page, 420\n",
      "Getting page, 430\n",
      "Getting page, 440\n",
      "Getting page, 450\n",
      "Getting page, 460\n",
      "Getting page, 470\n",
      "Getting page, 480\n",
      "Getting page, 490\n",
      "Empty DataFrame\n",
      "Columns: []\n",
      "Index: []\n"
     ]
    }
   ],
   "source": [
    "\n",
    "\n",
    "def extract(page):\n",
    "    headers = {'User-Agent': 'Mozilla/5.0 (Windows NT 10.0; Win64; x64) AppleWebKit/537.36 (KHTML, like Gecko) Chrome/85.0.4183.102 Safari/537.36'}\n",
    "    url = f'https://dk.indeed.com/jobs?q=Data+Analyst&l=Denmark&start={page}'\n",
    "    r = requests.get(url, headers)\n",
    "    soup = BeautifulSoup(r.content, 'html.parser')\n",
    "    return soup\n",
    "\n",
    "def transform(soup):\n",
    "    divs = soup.find_all('div', class_ = 'jobsearch-SerpJobCard')\n",
    "    for item in divs:\n",
    "        extract_date = datetime.today().strftime('%Y-%m-%d')\n",
    "        post_date = item.find('span', 'date').text\n",
    "        title = item.find('a').text.strip()\n",
    "        company = item.find('span', class_ ='company').text.strip()\n",
    "        \n",
    "            \n",
    "        try:\n",
    "            location  = item.find('span', class_='location').text.strip()\n",
    "        except:\n",
    "            location = ''\n",
    "        \n",
    "        try:\n",
    "            salary = item.find('span', class_ = 'salaryText').text.strip()\n",
    "        except:\n",
    "            salary = ''\n",
    "        \n",
    "        try:\n",
    "            job_url  = job_url = 'https://dk.indeed.com' + item.h2.a.get('href')\n",
    "        except:\n",
    "            job_url  = ''\n",
    "        \n",
    "        summary = item.find('div', {'class' : 'summary'}).text.strip().replace('\\n', '')\n",
    "\n",
    "        job = {\n",
    "            'extract_date': extract_date,\n",
    "            'post_date': post_date,\n",
    "            'title': title,\n",
    "            'company': company,\n",
    "            'location':location,\n",
    "            'salary': salary,\n",
    "            'job_url': job_url,\n",
    "            'summary': summary\n",
    "        }\n",
    "        joblist.append(job)\n",
    "    return\n",
    "\n",
    "joblist = []  \n",
    "\n",
    "for i in range(0,500,10):\n",
    "    print(f'Getting page, {i}')\n",
    "    c = extract(0)\n",
    "    transform(c)\n",
    "\n",
    "df = pd.DataFrame(joblist)\n",
    "print(df.head())\n",
    "df.to_csv('Denmark.csv')"
   ]
  },
  {
   "cell_type": "code",
   "execution_count": 3,
   "id": "celtic-framework",
   "metadata": {},
   "outputs": [],
   "source": [
    "df = pd.read_csv('./DA_Denmark_test.csv', encoding='latin1')\n"
   ]
  },
  {
   "cell_type": "code",
   "execution_count": 4,
   "id": "7346d568",
   "metadata": {},
   "outputs": [],
   "source": [
    "df1 = df.copy()"
   ]
  },
  {
   "cell_type": "code",
   "execution_count": 5,
   "id": "a271e1b2",
   "metadata": {},
   "outputs": [
    {
     "data": {
      "text/html": [
       "<div>\n",
       "<style scoped>\n",
       "    .dataframe tbody tr th:only-of-type {\n",
       "        vertical-align: middle;\n",
       "    }\n",
       "\n",
       "    .dataframe tbody tr th {\n",
       "        vertical-align: top;\n",
       "    }\n",
       "\n",
       "    .dataframe thead th {\n",
       "        text-align: right;\n",
       "    }\n",
       "</style>\n",
       "<table border=\"1\" class=\"dataframe\">\n",
       "  <thead>\n",
       "    <tr style=\"text-align: right;\">\n",
       "      <th></th>\n",
       "      <th>Unnamed: 0</th>\n",
       "    </tr>\n",
       "  </thead>\n",
       "  <tbody>\n",
       "  </tbody>\n",
       "</table>\n",
       "</div>"
      ],
      "text/plain": [
       "Empty DataFrame\n",
       "Columns: [Unnamed: 0]\n",
       "Index: []"
      ]
     },
     "execution_count": 5,
     "metadata": {},
     "output_type": "execute_result"
    }
   ],
   "source": [
    "df1.head()"
   ]
  },
  {
   "cell_type": "code",
   "execution_count": 11,
   "id": "ranking-catalyst",
   "metadata": {},
   "outputs": [
    {
     "data": {
      "text/plain": [
       "Index(['Unnamed: 0'], dtype='object')"
      ]
     },
     "execution_count": 11,
     "metadata": {},
     "output_type": "execute_result"
    }
   ],
   "source": [
    "df1.columns"
   ]
  },
  {
   "cell_type": "code",
   "execution_count": 12,
   "id": "c76ae656",
   "metadata": {},
   "outputs": [
    {
     "data": {
      "text/plain": [
       "Index(['UNNAMED: 0'], dtype='object')"
      ]
     },
     "execution_count": 12,
     "metadata": {},
     "output_type": "execute_result"
    }
   ],
   "source": [
    "df1.columns.str.upper()"
   ]
  },
  {
   "cell_type": "code",
   "execution_count": 30,
   "id": "4b45bc6c",
   "metadata": {},
   "outputs": [
    {
     "data": {
      "text/plain": [
       "Index(['Unnamed: 0', 'extract_date', 'post_date', 'title', 'company',\n",
       "       'location', 'salary', 'job_url', 'summary'],\n",
       "      dtype='object')"
      ]
     },
     "execution_count": 30,
     "metadata": {},
     "output_type": "execute_result"
    }
   ],
   "source": [
    "df1.columns"
   ]
  },
  {
   "cell_type": "code",
   "execution_count": 31,
   "id": "ff8bebdd",
   "metadata": {},
   "outputs": [
    {
     "data": {
      "text/html": [
       "<div>\n",
       "<style scoped>\n",
       "    .dataframe tbody tr th:only-of-type {\n",
       "        vertical-align: middle;\n",
       "    }\n",
       "\n",
       "    .dataframe tbody tr th {\n",
       "        vertical-align: top;\n",
       "    }\n",
       "\n",
       "    .dataframe thead th {\n",
       "        text-align: right;\n",
       "    }\n",
       "</style>\n",
       "<table border=\"1\" class=\"dataframe\">\n",
       "  <thead>\n",
       "    <tr style=\"text-align: right;\">\n",
       "      <th></th>\n",
       "      <th>Unnamed: 0</th>\n",
       "      <th>extract_date</th>\n",
       "      <th>post_date</th>\n",
       "      <th>title</th>\n",
       "      <th>company</th>\n",
       "      <th>location</th>\n",
       "      <th>salary</th>\n",
       "      <th>job_url</th>\n",
       "      <th>summary</th>\n",
       "    </tr>\n",
       "  </thead>\n",
       "  <tbody>\n",
       "    <tr>\n",
       "      <th>0</th>\n",
       "      <td>False</td>\n",
       "      <td>False</td>\n",
       "      <td>False</td>\n",
       "      <td>False</td>\n",
       "      <td>False</td>\n",
       "      <td>True</td>\n",
       "      <td>True</td>\n",
       "      <td>False</td>\n",
       "      <td>False</td>\n",
       "    </tr>\n",
       "    <tr>\n",
       "      <th>1</th>\n",
       "      <td>False</td>\n",
       "      <td>False</td>\n",
       "      <td>False</td>\n",
       "      <td>False</td>\n",
       "      <td>False</td>\n",
       "      <td>True</td>\n",
       "      <td>True</td>\n",
       "      <td>False</td>\n",
       "      <td>False</td>\n",
       "    </tr>\n",
       "    <tr>\n",
       "      <th>2</th>\n",
       "      <td>False</td>\n",
       "      <td>False</td>\n",
       "      <td>False</td>\n",
       "      <td>False</td>\n",
       "      <td>False</td>\n",
       "      <td>False</td>\n",
       "      <td>True</td>\n",
       "      <td>False</td>\n",
       "      <td>False</td>\n",
       "    </tr>\n",
       "    <tr>\n",
       "      <th>3</th>\n",
       "      <td>False</td>\n",
       "      <td>False</td>\n",
       "      <td>False</td>\n",
       "      <td>False</td>\n",
       "      <td>False</td>\n",
       "      <td>False</td>\n",
       "      <td>True</td>\n",
       "      <td>False</td>\n",
       "      <td>False</td>\n",
       "    </tr>\n",
       "    <tr>\n",
       "      <th>4</th>\n",
       "      <td>False</td>\n",
       "      <td>False</td>\n",
       "      <td>False</td>\n",
       "      <td>False</td>\n",
       "      <td>False</td>\n",
       "      <td>False</td>\n",
       "      <td>True</td>\n",
       "      <td>False</td>\n",
       "      <td>False</td>\n",
       "    </tr>\n",
       "    <tr>\n",
       "      <th>...</th>\n",
       "      <td>...</td>\n",
       "      <td>...</td>\n",
       "      <td>...</td>\n",
       "      <td>...</td>\n",
       "      <td>...</td>\n",
       "      <td>...</td>\n",
       "      <td>...</td>\n",
       "      <td>...</td>\n",
       "      <td>...</td>\n",
       "    </tr>\n",
       "    <tr>\n",
       "      <th>630</th>\n",
       "      <td>False</td>\n",
       "      <td>False</td>\n",
       "      <td>False</td>\n",
       "      <td>False</td>\n",
       "      <td>False</td>\n",
       "      <td>False</td>\n",
       "      <td>True</td>\n",
       "      <td>False</td>\n",
       "      <td>False</td>\n",
       "    </tr>\n",
       "    <tr>\n",
       "      <th>631</th>\n",
       "      <td>False</td>\n",
       "      <td>False</td>\n",
       "      <td>False</td>\n",
       "      <td>False</td>\n",
       "      <td>False</td>\n",
       "      <td>False</td>\n",
       "      <td>True</td>\n",
       "      <td>False</td>\n",
       "      <td>False</td>\n",
       "    </tr>\n",
       "    <tr>\n",
       "      <th>632</th>\n",
       "      <td>False</td>\n",
       "      <td>False</td>\n",
       "      <td>False</td>\n",
       "      <td>False</td>\n",
       "      <td>False</td>\n",
       "      <td>False</td>\n",
       "      <td>True</td>\n",
       "      <td>False</td>\n",
       "      <td>False</td>\n",
       "    </tr>\n",
       "    <tr>\n",
       "      <th>633</th>\n",
       "      <td>False</td>\n",
       "      <td>False</td>\n",
       "      <td>False</td>\n",
       "      <td>False</td>\n",
       "      <td>False</td>\n",
       "      <td>False</td>\n",
       "      <td>True</td>\n",
       "      <td>False</td>\n",
       "      <td>False</td>\n",
       "    </tr>\n",
       "    <tr>\n",
       "      <th>634</th>\n",
       "      <td>False</td>\n",
       "      <td>False</td>\n",
       "      <td>False</td>\n",
       "      <td>False</td>\n",
       "      <td>False</td>\n",
       "      <td>False</td>\n",
       "      <td>True</td>\n",
       "      <td>False</td>\n",
       "      <td>False</td>\n",
       "    </tr>\n",
       "  </tbody>\n",
       "</table>\n",
       "<p>635 rows × 9 columns</p>\n",
       "</div>"
      ],
      "text/plain": [
       "     Unnamed: 0  extract_date  post_date  title  company  location  salary  \\\n",
       "0         False         False      False  False    False      True    True   \n",
       "1         False         False      False  False    False      True    True   \n",
       "2         False         False      False  False    False     False    True   \n",
       "3         False         False      False  False    False     False    True   \n",
       "4         False         False      False  False    False     False    True   \n",
       "..          ...           ...        ...    ...      ...       ...     ...   \n",
       "630       False         False      False  False    False     False    True   \n",
       "631       False         False      False  False    False     False    True   \n",
       "632       False         False      False  False    False     False    True   \n",
       "633       False         False      False  False    False     False    True   \n",
       "634       False         False      False  False    False     False    True   \n",
       "\n",
       "     job_url  summary  \n",
       "0      False    False  \n",
       "1      False    False  \n",
       "2      False    False  \n",
       "3      False    False  \n",
       "4      False    False  \n",
       "..       ...      ...  \n",
       "630    False    False  \n",
       "631    False    False  \n",
       "632    False    False  \n",
       "633    False    False  \n",
       "634    False    False  \n",
       "\n",
       "[635 rows x 9 columns]"
      ]
     },
     "execution_count": 31,
     "metadata": {},
     "output_type": "execute_result"
    }
   ],
   "source": [
    "df1.isnull()"
   ]
  },
  {
   "cell_type": "code",
   "execution_count": 5,
   "id": "invalid-florida",
   "metadata": {},
   "outputs": [
    {
     "data": {
      "text/plain": [
       "{'Capgemini Sogeti',\n",
       " 'DANISH ENDURANCE',\n",
       " 'Danske Bank',\n",
       " 'Falcon.io',\n",
       " 'Firmnav',\n",
       " 'HBO Max',\n",
       " 'Lenus eHealth',\n",
       " 'Magasin du Nord',\n",
       " 'Novo Nordisk',\n",
       " 'OfficeHub',\n",
       " 'PRECURE ApS',\n",
       " 'Presidents Summit',\n",
       " 'Salesforce',\n",
       " 'Salute Mission Critical',\n",
       " 'Scalepoint',\n",
       " 'Statzon',\n",
       " 'Total',\n",
       " 'WarnerMedia',\n",
       " 'William Demant Group',\n",
       " 'Wood Thilsted',\n",
       " 'Wunderman'}"
      ]
     },
     "execution_count": 5,
     "metadata": {},
     "output_type": "execute_result"
    }
   ],
   "source": [
    "set(df['company'])"
   ]
  },
  {
   "cell_type": "code",
   "execution_count": 6,
   "id": "south-limitation",
   "metadata": {},
   "outputs": [
    {
     "data": {
      "text/plain": [
       "array(['Business Analyst Internship Program (sabbatår)',\n",
       "       'Data savvy and quantitative-oriented Consumer Insight Analys...',\n",
       "       'HR Data Analyst', 'Data analyst',\n",
       "       'Data Analyst, Customer Insights', 'Growth Data Analyst',\n",
       "       'Data Analyst', 'Data Analyst Intern', 'Business Analyst (Danish)',\n",
       "       'Meteorological and Oceanographic data Analyst', 'Analyst',\n",
       "       'Data Analyst Internship', 'IGNITE Graduate Program',\n",
       "       'Retail Analyst', 'Junior Business Analyst',\n",
       "       'Data Center Facilities Analyst',\n",
       "       'Studiejob: Data Analyst for research and training of AI',\n",
       "       'Finance Data Analyst', 'Data Analyst - Student Assistant',\n",
       "       'Account Executive - Commerce Cloud'], dtype=object)"
      ]
     },
     "execution_count": 6,
     "metadata": {},
     "output_type": "execute_result"
    }
   ],
   "source": [
    "df['title'].unique()"
   ]
  },
  {
   "cell_type": "code",
   "execution_count": null,
   "id": "ec621e47",
   "metadata": {},
   "outputs": [],
   "source": []
  }
 ],
 "metadata": {
  "kernelspec": {
   "display_name": "Python 3",
   "language": "python",
   "name": "python3"
  },
  "language_info": {
   "codemirror_mode": {
    "name": "ipython",
    "version": 3
   },
   "file_extension": ".py",
   "mimetype": "text/x-python",
   "name": "python",
   "nbconvert_exporter": "python",
   "pygments_lexer": "ipython3",
   "version": "3.8.10"
  }
 },
 "nbformat": 4,
 "nbformat_minor": 5
}
