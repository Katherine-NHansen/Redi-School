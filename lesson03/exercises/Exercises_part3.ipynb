{
 "cells": [
  {
   "cell_type": "markdown",
   "id": "separated-candle",
   "metadata": {},
   "source": [
    " ## CLASS-EXERCISE "
   ]
  },
  {
   "cell_type": "markdown",
   "id": "successful-steam",
   "metadata": {},
   "source": [
    "1. Create a 2-d and 3-d numpy integer array "
   ]
  },
  {
   "cell_type": "code",
   "execution_count": 9,
   "id": "afraid-litigation",
   "metadata": {},
   "outputs": [
    {
     "name": "stdout",
     "output_type": "stream",
     "text": [
      "[[1 2 3]\n",
      " [4 5 6]]\n",
      "[[[1 2 3]\n",
      "  [4 5 6]]\n",
      "\n",
      " [[1 2 3]\n",
      "  [4 5 6]]]\n"
     ]
    }
   ],
   "source": [
    "import numpy as np\n",
    "\n",
    "x = np.array([[1, 2, 3], [4, 5, 6]])\n",
    "y = np.array([[[1, 2, 3], [4, 5, 6]], [[1, 2, 3], [4, 5, 6]]])\n",
    "\n",
    "print(x)\n",
    "print(y)\n",
    "\n"
   ]
  },
  {
   "cell_type": "markdown",
   "id": "stopped-university",
   "metadata": {},
   "source": [
    "2. Create a 2X2 integer array and show it's dimensions"
   ]
  },
  {
   "cell_type": "code",
   "execution_count": 10,
   "id": "sunset-generation",
   "metadata": {},
   "outputs": [
    {
     "name": "stdout",
     "output_type": "stream",
     "text": [
      "[1 2 3]\n",
      "[4 5 6]\n"
     ]
    }
   ],
   "source": [
    "arr = np.array([[1, 2, 3], [4, 5, 6]])\n",
    "\n",
    "for x in arr:\n",
    "  print(x)"
   ]
  },
  {
   "cell_type": "markdown",
   "id": "intelligent-arkansas",
   "metadata": {},
   "source": [
    "3. Create a numpy array and  print the sum of third and fourth elements from the array "
   ]
  },
  {
   "cell_type": "code",
   "execution_count": null,
   "id": "south-preference",
   "metadata": {},
   "outputs": [],
   "source": []
  },
  {
   "cell_type": "markdown",
   "id": "confirmed-leave",
   "metadata": {},
   "source": [
    "4. Slice the below array to get the the second item to the excluding fifth item\n",
    "\n",
    "arr = np.array([10, 15, 20, 25, 30, 35, 40])"
   ]
  },
  {
   "cell_type": "code",
   "execution_count": null,
   "id": "metric-jones",
   "metadata": {},
   "outputs": [],
   "source": []
  },
  {
   "cell_type": "markdown",
   "id": "motivated-fortune",
   "metadata": {},
   "source": [
    "5. Try example 4. using STEP method"
   ]
  },
  {
   "cell_type": "code",
   "execution_count": null,
   "id": "beginning-visitor",
   "metadata": {},
   "outputs": [],
   "source": []
  },
  {
   "cell_type": "markdown",
   "id": "instrumental-delicious",
   "metadata": {},
   "source": [
    "6. Create a integer array and change data type from integer to boolean\n",
    "\n"
   ]
  },
  {
   "cell_type": "code",
   "execution_count": null,
   "id": "israeli-identity",
   "metadata": {},
   "outputs": [],
   "source": []
  },
  {
   "cell_type": "markdown",
   "id": "blind-produce",
   "metadata": {},
   "source": [
    "7. Use NumPy syntax to check the shape of an array.\n",
    "\n",
    "arr = np.array([1, 2, 3, 4, 5])"
   ]
  },
  {
   "cell_type": "code",
   "execution_count": null,
   "id": "standard-shower",
   "metadata": {},
   "outputs": [],
   "source": []
  },
  {
   "cell_type": "markdown",
   "id": "stupid-measure",
   "metadata": {},
   "source": [
    "8. Find the indexes where the values are even:\n",
    "\n",
    "arr = [16, 8, 3, 7, 15, 24]"
   ]
  },
  {
   "cell_type": "code",
   "execution_count": null,
   "id": "stuffed-vietnamese",
   "metadata": {},
   "outputs": [],
   "source": []
  },
  {
   "cell_type": "markdown",
   "id": "limited-prefix",
   "metadata": {},
   "source": [
    "9. Create a numpy array of 5 person names and sort the values alpbabetically"
   ]
  },
  {
   "cell_type": "code",
   "execution_count": null,
   "id": "optical-heavy",
   "metadata": {},
   "outputs": [],
   "source": []
  },
  {
   "cell_type": "markdown",
   "id": "addressed-howard",
   "metadata": {},
   "source": [
    "10. Use the correct NumPy method to return a sorted array.\n",
    "\n",
    "  arr = np.array([3, 2, 0, 1])"
   ]
  },
  {
   "cell_type": "code",
   "execution_count": null,
   "id": "alone-uncertainty",
   "metadata": {},
   "outputs": [],
   "source": []
  }
 ],
 "metadata": {
  "kernelspec": {
   "display_name": "Python 3",
   "language": "python",
   "name": "python3"
  },
  "language_info": {
   "codemirror_mode": {
    "name": "ipython",
    "version": 3
   },
   "file_extension": ".py",
   "mimetype": "text/x-python",
   "name": "python",
   "nbconvert_exporter": "python",
   "pygments_lexer": "ipython3",
   "version": "3.9.2"
  }
 },
 "nbformat": 4,
 "nbformat_minor": 5
}
