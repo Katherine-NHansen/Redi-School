{
 "cells": [
  {
   "cell_type": "markdown",
   "id": "cheap-causing",
   "metadata": {
    "slideshow": {
     "slide_type": "slide"
    }
   },
   "source": [
    "# Testing and validating your model"
   ]
  },
  {
   "cell_type": "markdown",
   "id": "isolated-romania",
   "metadata": {
    "slideshow": {
     "slide_type": "slide"
    }
   },
   "source": [
    "## Recap\n",
    "\n",
    "**Supervised Machine Learning** = approximating a target function  _f_  that maps input variables _X_ to an output variable _Y_.\n",
    "\n",
    "**Linear Regression** = The target function is linear and we _regress_ towards a fitting model by minimizing a loss function."
   ]
  },
  {
   "cell_type": "markdown",
   "id": "residential-jonathan",
   "metadata": {
    "slideshow": {
     "slide_type": "fragment"
    }
   },
   "source": [
    "How well does this found target function generalize to new data?"
   ]
  },
  {
   "cell_type": "markdown",
   "id": "clean-friendly",
   "metadata": {
    "slideshow": {
     "slide_type": "slide"
    }
   },
   "source": [
    "## Population vs. Sample\n",
    "![](img/sample.png)\n",
    "\n",
    "- in ML you learn from data that is **not** the entire population, but on a sample"
   ]
  },
  {
   "cell_type": "markdown",
   "id": "enclosed-disclosure",
   "metadata": {
    "slideshow": {
     "slide_type": "subslide"
    }
   },
   "source": [
    "How do we know how our model performs on data that is **not** from the sample?"
   ]
  },
  {
   "cell_type": "markdown",
   "id": "banner-separate",
   "metadata": {
    "slideshow": {
     "slide_type": "fragment"
    }
   },
   "source": [
    "- hide some data from the model when training it (reducing the sample)\n",
    "- test the performance of the model on the data that it hasn't seen before"
   ]
  },
  {
   "cell_type": "markdown",
   "id": "public-findings",
   "metadata": {
    "slideshow": {
     "slide_type": "fragment"
    }
   },
   "source": [
    "### Cross-validation\n",
    "\n",
    "- out-of-sample testing \n",
    "- assessing how the model _generalizes_ to an unseen data set. \n",
    "- The goal is to flag problems like _over-_ and _underfitting_ and test the ability of the model to generalize"
   ]
  },
  {
   "cell_type": "markdown",
   "id": "wicked-siemens",
   "metadata": {
    "slideshow": {
     "slide_type": "slide"
    }
   },
   "source": [
    "### Generalization\n",
    "- measure of how accurately a model is able to predict outcome values for unseen data"
   ]
  },
  {
   "cell_type": "markdown",
   "id": "adopted-mexican",
   "metadata": {
    "slideshow": {
     "slide_type": "slide"
    }
   },
   "source": [
    "## Training and Testing data\n",
    "\n",
    "- **Training data**: the data that the model sees\n",
    "- **Testing data**: the data that the model is tested against\n",
    "\n",
    "The model should **never** be trained on test data"
   ]
  },
  {
   "cell_type": "markdown",
   "id": "governmental-regular",
   "metadata": {
    "slideshow": {
     "slide_type": "fragment"
    }
   },
   "source": [
    "We can use the [sklearn](https://scikit-learn.org/stable/modules/generated/sklearn.model_selection.train_test_split.html#sklearn.model_selection.train_test_split) library to help us, split the data into test and training data"
   ]
  },
  {
   "cell_type": "code",
   "execution_count": 6,
   "id": "fitted-democracy",
   "metadata": {
    "slideshow": {
     "slide_type": "slide"
    }
   },
   "outputs": [
    {
     "data": {
      "text/html": [
       "<div>\n",
       "<style scoped>\n",
       "    .dataframe tbody tr th:only-of-type {\n",
       "        vertical-align: middle;\n",
       "    }\n",
       "\n",
       "    .dataframe tbody tr th {\n",
       "        vertical-align: top;\n",
       "    }\n",
       "\n",
       "    .dataframe thead th {\n",
       "        text-align: right;\n",
       "    }\n",
       "</style>\n",
       "<table border=\"1\" class=\"dataframe\">\n",
       "  <thead>\n",
       "    <tr style=\"text-align: right;\">\n",
       "      <th></th>\n",
       "      <th>Year</th>\n",
       "      <th>US science spending</th>\n",
       "      <th>Suicides</th>\n",
       "    </tr>\n",
       "  </thead>\n",
       "  <tbody>\n",
       "    <tr>\n",
       "      <th>0</th>\n",
       "      <td>1999</td>\n",
       "      <td>18079</td>\n",
       "      <td>5427</td>\n",
       "    </tr>\n",
       "    <tr>\n",
       "      <th>1</th>\n",
       "      <td>2000</td>\n",
       "      <td>18594</td>\n",
       "      <td>5688</td>\n",
       "    </tr>\n",
       "    <tr>\n",
       "      <th>2</th>\n",
       "      <td>2001</td>\n",
       "      <td>19753</td>\n",
       "      <td>6198</td>\n",
       "    </tr>\n",
       "    <tr>\n",
       "      <th>3</th>\n",
       "      <td>2002</td>\n",
       "      <td>20734</td>\n",
       "      <td>6462</td>\n",
       "    </tr>\n",
       "    <tr>\n",
       "      <th>4</th>\n",
       "      <td>2003</td>\n",
       "      <td>20831</td>\n",
       "      <td>6635</td>\n",
       "    </tr>\n",
       "    <tr>\n",
       "      <th>5</th>\n",
       "      <td>2004</td>\n",
       "      <td>23029</td>\n",
       "      <td>7336</td>\n",
       "    </tr>\n",
       "    <tr>\n",
       "      <th>6</th>\n",
       "      <td>2005</td>\n",
       "      <td>23597</td>\n",
       "      <td>7248</td>\n",
       "    </tr>\n",
       "    <tr>\n",
       "      <th>7</th>\n",
       "      <td>2006</td>\n",
       "      <td>23584</td>\n",
       "      <td>7491</td>\n",
       "    </tr>\n",
       "    <tr>\n",
       "      <th>8</th>\n",
       "      <td>2007</td>\n",
       "      <td>25525</td>\n",
       "      <td>8161</td>\n",
       "    </tr>\n",
       "    <tr>\n",
       "      <th>9</th>\n",
       "      <td>2008</td>\n",
       "      <td>27731</td>\n",
       "      <td>8578</td>\n",
       "    </tr>\n",
       "    <tr>\n",
       "      <th>10</th>\n",
       "      <td>2009</td>\n",
       "      <td>29449</td>\n",
       "      <td>9000</td>\n",
       "    </tr>\n",
       "  </tbody>\n",
       "</table>\n",
       "</div>"
      ],
      "text/plain": [
       "    Year  US science spending  Suicides\n",
       "0   1999                18079      5427\n",
       "1   2000                18594      5688\n",
       "2   2001                19753      6198\n",
       "3   2002                20734      6462\n",
       "4   2003                20831      6635\n",
       "5   2004                23029      7336\n",
       "6   2005                23597      7248\n",
       "7   2006                23584      7491\n",
       "8   2007                25525      8161\n",
       "9   2008                27731      8578\n",
       "10  2009                29449      9000"
      ]
     },
     "execution_count": 6,
     "metadata": {},
     "output_type": "execute_result"
    }
   ],
   "source": [
    "import pandas as pd\n",
    "from sklearn.model_selection import train_test_split\n",
    "from sklearn.linear_model import LinearRegression\n",
    "import matplotlib.pyplot as plt\n",
    "\n",
    "df = pd.read_csv(\"data/science.csv\")\n",
    "df"
   ]
  },
  {
   "cell_type": "code",
   "execution_count": 7,
   "id": "computational-level",
   "metadata": {
    "slideshow": {
     "slide_type": "subslide"
    }
   },
   "outputs": [
    {
     "data": {
      "text/plain": [
       "<AxesSubplot:xlabel='US science spending', ylabel='Suicides'>"
      ]
     },
     "execution_count": 7,
     "metadata": {},
     "output_type": "execute_result"
    },
    {
     "data": {
      "image/png": "[encoded data removed]",
      "text/plain": [
       "<Figure size 432x288 with 1 Axes>"
      ]
     },
     "metadata": {
      "needs_background": "light"
     },
     "output_type": "display_data"
    }
   ],
   "source": [
    "df.plot.scatter(x=1, y=2)"
   ]
  },
  {
   "cell_type": "code",
   "execution_count": 8,
   "id": "applicable-network",
   "metadata": {
    "slideshow": {
     "slide_type": "subslide"
    }
   },
   "outputs": [
    {
     "data": {
      "text/plain": [
       "array([[23029],\n",
       "       [20734],\n",
       "       [18594],\n",
       "       [23597],\n",
       "       [29449],\n",
       "       [18079],\n",
       "       [23584],\n",
       "       [20831]], dtype=int64)"
      ]
     },
     "execution_count": 8,
     "metadata": {},
     "output_type": "execute_result"
    }
   ],
   "source": [
    "X = df['US science spending']\n",
    "Y = df['Suicides']\n",
    "\n",
    "model = LinearRegression()\n",
    "x_train, x_test, y_train, y_test = train_test_split(X,Y, test_size=0.2, shuffle=True)\n",
    "x_train = x_train.values.reshape(-1, 1)\n",
    "x_test = x_test.values.reshape(-1, 1)\n",
    "x_train\n"
   ]
  },
  {
   "cell_type": "code",
   "execution_count": 9,
   "id": "quantitative-question",
   "metadata": {
    "slideshow": {
     "slide_type": "subslide"
    }
   },
   "outputs": [
    {
     "data": {
      "text/plain": [
       "LinearRegression()"
      ]
     },
     "execution_count": 9,
     "metadata": {},
     "output_type": "execute_result"
    }
   ],
   "source": [
    "model.fit(x_train, y_train)"
   ]
  },
  {
   "cell_type": "code",
   "execution_count": 10,
   "id": "confirmed-bridge",
   "metadata": {
    "slideshow": {
     "slide_type": "fragment"
    }
   },
   "outputs": [
    {
     "data": {
      "text/plain": [
       "array([0.31098424])"
      ]
     },
     "execution_count": 10,
     "metadata": {},
     "output_type": "execute_result"
    }
   ],
   "source": [
    "model.coef_"
   ]
  },
  {
   "cell_type": "code",
   "execution_count": 11,
   "id": "subsequent-greek",
   "metadata": {
    "slideshow": {
     "slide_type": "subslide"
    }
   },
   "outputs": [
    {
     "data": {
      "text/plain": [
       "0.9821810694094874"
      ]
     },
     "execution_count": 11,
     "metadata": {},
     "output_type": "execute_result"
    }
   ],
   "source": [
    "model.score(x_train, y_train)"
   ]
  },
  {
   "cell_type": "markdown",
   "id": "maritime-award",
   "metadata": {
    "slideshow": {
     "slide_type": "fragment"
    }
   },
   "source": [
    "**Note**: We tested on data that was already seen!"
   ]
  },
  {
   "cell_type": "code",
   "execution_count": 12,
   "id": "beginning-exemption",
   "metadata": {
    "slideshow": {
     "slide_type": "fragment"
    }
   },
   "outputs": [
    {
     "data": {
      "text/plain": [
       "0.9823268511749296"
      ]
     },
     "execution_count": 12,
     "metadata": {},
     "output_type": "execute_result"
    }
   ],
   "source": [
    "model.score(x_test, y_test)"
   ]
  },
  {
   "cell_type": "markdown",
   "id": "informative-turtle",
   "metadata": {
    "slideshow": {
     "slide_type": "subslide"
    }
   },
   "source": [
    "Now, that's a beautiful score! Seems like we can predict suicide rates in the US based on the science spending!\n",
    "\n",
    "Or can we?"
   ]
  },
  {
   "cell_type": "markdown",
   "id": "complete-inclusion",
   "metadata": {
    "slideshow": {
     "slide_type": "fragment"
    }
   },
   "source": [
    "**No**. The theory doesn't fit in this case."
   ]
  },
  {
   "cell_type": "markdown",
   "id": "official-publicity",
   "metadata": {
    "slideshow": {
     "slide_type": "slide"
    }
   },
   "source": [
    "## Prediction Errors\n",
    "\n",
    "**Bias**: \n",
    "\n",
    "_Bias are the simplifying assumptions made by a model to make the target function easier to learn._\n",
    "\n",
    "- average squared difference between predictions and true values (= **mean squared error**)\n",
    "- measure of how good your model fits the data. \n",
    "- zero bias = model captures reality perfectly (unlikely to ever be seen in a model)\n",
    "- values closer to zero are better\n",
    "\n",
    "**Variance**: \n",
    "\n",
    "_Variance is the amount that the estimate of the target function will change if different training data was used._\n",
    "\n",
    "- a model has high variance if its predictions are sensitive to small changes in the input. \n",
    "- high variance often means overfitting, because the model seems to have captured random noise or outliers\n",
    "\n",
    "_You want a model that has low bias and low variance._"
   ]
  },
  {
   "cell_type": "markdown",
   "id": "typical-rebel",
   "metadata": {
    "slideshow": {
     "slide_type": "subslide"
    }
   },
   "source": [
    "## Measure of quality of model (goodness of fit)\n",
    "\n",
    "**The R-squared score**\n",
    "\n",
    "- statistical measure of how close the data are to the fitted regression line\n",
    "- coefficient of determination\n",
    "- percentage of dependent variable variation that is explained by independent variable"
   ]
  },
  {
   "cell_type": "markdown",
   "id": "hindu-catch",
   "metadata": {
    "slideshow": {
     "slide_type": "slide"
    }
   },
   "source": [
    "## Overfitting and Underfitting\n",
    "\n",
    "![](img/overfitting.png)\n",
    "\n",
    "- cause of poor performance in Machine Learning\n",
    "- more common with nonlinear models that have more flexibility when learning a target function"
   ]
  },
  {
   "cell_type": "markdown",
   "id": "departmental-smile",
   "metadata": {
    "slideshow": {
     "slide_type": "subslide"
    }
   },
   "source": [
    "**Overfitting**: \n",
    "- model captures noise along with the underlying pattern in the data. \n",
    "- Gap between training loss and validation loss is a hint that the model does not generalize well. \n",
    "- model has low bias and high variance. \n",
    "- solution: stop training earlier. \n",
    "\n",
    "**Underfitting**: \n",
    "- refers to a model that can neither model the training data nor generalize to new data. \n",
    "- Caused by stopping training too early or the wrong model (e.g. the data cannot be modeled by a linear function). \n",
    "- model has high bias and low variance "
   ]
  },
  {
   "cell_type": "markdown",
   "id": "decreased-affair",
   "metadata": {},
   "source": [
    "- training loss vs. validation loss\n",
    "\n",
    "![](img/overfitting_curve.jpg)"
   ]
  }
 ],
 "metadata": {
  "celltoolbar": "Slideshow",
  "kernelspec": {
   "display_name": "Python 3",
   "language": "python",
   "name": "python3"
  },
  "language_info": {
   "codemirror_mode": {
    "name": "ipython",
    "version": 3
   },
   "file_extension": ".py",
   "mimetype": "text/x-python",
   "name": "python",
   "nbconvert_exporter": "python",
   "pygments_lexer": "ipython3",
   "version": "3.8.8"
  }
 },
 "nbformat": 4,
 "nbformat_minor": 5
}
